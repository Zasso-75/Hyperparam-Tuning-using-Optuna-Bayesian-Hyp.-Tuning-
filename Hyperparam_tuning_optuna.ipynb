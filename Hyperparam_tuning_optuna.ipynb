{
 "cells": [
  {
   "cell_type": "code",
   "execution_count": 5,
   "id": "9dff5adc",
   "metadata": {},
   "outputs": [],
   "source": [
    "import optuna\n",
    "\n",
    "import numpy as np\n",
    "import pandas as pd \n",
    "from sklearn.datasets import load_breast_cancer\n",
    "from sklearn.model_selection import train_test_split\n",
    "from sklearn.ensemble import RandomForestClassifier\n",
    "from sklearn.metrics import accuracy_score"
   ]
  },
  {
   "cell_type": "markdown",
   "id": "eef17495",
   "metadata": {},
   "source": [
    "## OPTUNA \n",
    "\n",
    "took 1min 13 secs for finding the best params and give the best accuracy"
   ]
  },
  {
   "cell_type": "code",
   "execution_count": 6,
   "id": "32850aa7",
   "metadata": {},
   "outputs": [],
   "source": [
    "x = load_breast_cancer(as_frame=True).data\n",
    "y= load_breast_cancer(as_frame=True).target"
   ]
  },
  {
   "cell_type": "code",
   "execution_count": 8,
   "id": "71898a3a",
   "metadata": {},
   "outputs": [],
   "source": [
    "x_train, x_test, y_train, y_test = train_test_split(x,y, test_size=0.2, random_state=42)"
   ]
  },
  {
   "cell_type": "code",
   "execution_count": 9,
   "id": "b32a2eb1",
   "metadata": {},
   "outputs": [],
   "source": [
    "def objective(trial):\n",
    "    params={\n",
    "        'n_estimators' : trial.suggest_int('n_estimators',100,1000, step=100),\n",
    "        'max_depth' : trial.suggest_int('max_depth',3,15),   # this will intelligently choose values from 3 to 15 (inclusive) for the param\n",
    "        'min_samples_split': trial.suggest_int('min_samples_split',2,20),  # same here\n",
    "        'max_features' : trial.suggest_categorical('max_features', ['sqrt','log2'])\n",
    "    }\n",
    "\n",
    "    model = RandomForestClassifier(random_state=42, **params)\n",
    "    model.fit(x_train, y_train)\n",
    "    y_pred= model.predict(x_test)\n",
    "    accuracy= accuracy_score(y_test, y_pred)\n",
    "    return accuracy  # this is the metric that the objective function gives , as we are using accuracy we will maximize"
   ]
  },
  {
   "cell_type": "code",
   "execution_count": 10,
   "id": "dbce6a45",
   "metadata": {},
   "outputs": [
    {
     "name": "stderr",
     "output_type": "stream",
     "text": [
      "[I 2025-07-13 16:29:39,209] A new study created in memory with name: no-name-e77a3a40-bb8f-46cc-9bad-7bd28d80abed\n",
      "[I 2025-07-13 16:29:39,583] Trial 0 finished with value: 0.9649122807017544 and parameters: {'n_estimators': 100, 'max_depth': 9, 'min_samples_split': 15, 'max_features': 'sqrt'}. Best is trial 0 with value: 0.9649122807017544.\n",
      "[I 2025-07-13 16:29:40,732] Trial 1 finished with value: 0.9649122807017544 and parameters: {'n_estimators': 600, 'max_depth': 12, 'min_samples_split': 19, 'max_features': 'log2'}. Best is trial 0 with value: 0.9649122807017544.\n",
      "[I 2025-07-13 16:29:41,934] Trial 2 finished with value: 0.9649122807017544 and parameters: {'n_estimators': 600, 'max_depth': 8, 'min_samples_split': 14, 'max_features': 'sqrt'}. Best is trial 0 with value: 0.9649122807017544.\n",
      "[I 2025-07-13 16:29:42,102] Trial 3 finished with value: 0.9649122807017544 and parameters: {'n_estimators': 100, 'max_depth': 3, 'min_samples_split': 8, 'max_features': 'log2'}. Best is trial 0 with value: 0.9649122807017544.\n",
      "[I 2025-07-13 16:29:43,925] Trial 4 finished with value: 0.9649122807017544 and parameters: {'n_estimators': 900, 'max_depth': 9, 'min_samples_split': 8, 'max_features': 'sqrt'}. Best is trial 0 with value: 0.9649122807017544.\n",
      "[I 2025-07-13 16:29:44,752] Trial 5 finished with value: 0.9649122807017544 and parameters: {'n_estimators': 400, 'max_depth': 15, 'min_samples_split': 3, 'max_features': 'sqrt'}. Best is trial 0 with value: 0.9649122807017544.\n",
      "[I 2025-07-13 16:29:44,945] Trial 6 finished with value: 0.9649122807017544 and parameters: {'n_estimators': 100, 'max_depth': 8, 'min_samples_split': 12, 'max_features': 'log2'}. Best is trial 0 with value: 0.9649122807017544.\n",
      "[I 2025-07-13 16:29:45,531] Trial 7 finished with value: 0.9649122807017544 and parameters: {'n_estimators': 300, 'max_depth': 4, 'min_samples_split': 20, 'max_features': 'sqrt'}. Best is trial 0 with value: 0.9649122807017544.\n",
      "[I 2025-07-13 16:29:47,001] Trial 8 finished with value: 0.9649122807017544 and parameters: {'n_estimators': 800, 'max_depth': 5, 'min_samples_split': 9, 'max_features': 'log2'}. Best is trial 0 with value: 0.9649122807017544.\n",
      "[I 2025-07-13 16:29:47,916] Trial 9 finished with value: 0.9649122807017544 and parameters: {'n_estimators': 500, 'max_depth': 12, 'min_samples_split': 13, 'max_features': 'log2'}. Best is trial 0 with value: 0.9649122807017544.\n",
      "[I 2025-07-13 16:29:48,539] Trial 10 finished with value: 0.9649122807017544 and parameters: {'n_estimators': 300, 'max_depth': 12, 'min_samples_split': 16, 'max_features': 'sqrt'}. Best is trial 0 with value: 0.9649122807017544.\n",
      "[I 2025-07-13 16:29:49,832] Trial 11 finished with value: 0.9649122807017544 and parameters: {'n_estimators': 700, 'max_depth': 12, 'min_samples_split': 20, 'max_features': 'log2'}. Best is trial 0 with value: 0.9649122807017544.\n",
      "[I 2025-07-13 16:29:51,635] Trial 12 finished with value: 0.9649122807017544 and parameters: {'n_estimators': 1000, 'max_depth': 15, 'min_samples_split': 17, 'max_features': 'log2'}. Best is trial 0 with value: 0.9649122807017544.\n",
      "[I 2025-07-13 16:29:52,876] Trial 13 finished with value: 0.9649122807017544 and parameters: {'n_estimators': 600, 'max_depth': 11, 'min_samples_split': 17, 'max_features': 'sqrt'}. Best is trial 0 with value: 0.9649122807017544.\n",
      "[I 2025-07-13 16:29:53,490] Trial 14 finished with value: 0.9649122807017544 and parameters: {'n_estimators': 300, 'max_depth': 6, 'min_samples_split': 16, 'max_features': 'log2'}. Best is trial 0 with value: 0.9649122807017544.\n",
      "[I 2025-07-13 16:29:54,498] Trial 15 finished with value: 0.9649122807017544 and parameters: {'n_estimators': 500, 'max_depth': 10, 'min_samples_split': 19, 'max_features': 'sqrt'}. Best is trial 0 with value: 0.9649122807017544.\n",
      "[I 2025-07-13 16:29:55,950] Trial 16 finished with value: 0.9649122807017544 and parameters: {'n_estimators': 700, 'max_depth': 14, 'min_samples_split': 14, 'max_features': 'sqrt'}. Best is trial 0 with value: 0.9649122807017544.\n",
      "[I 2025-07-13 16:29:56,176] Trial 17 finished with value: 0.9649122807017544 and parameters: {'n_estimators': 100, 'max_depth': 7, 'min_samples_split': 10, 'max_features': 'log2'}. Best is trial 0 with value: 0.9649122807017544.\n",
      "[I 2025-07-13 16:29:57,021] Trial 18 finished with value: 0.9649122807017544 and parameters: {'n_estimators': 400, 'max_depth': 10, 'min_samples_split': 5, 'max_features': 'sqrt'}. Best is trial 0 with value: 0.9649122807017544.\n",
      "[I 2025-07-13 16:29:58,557] Trial 19 finished with value: 0.9649122807017544 and parameters: {'n_estimators': 800, 'max_depth': 13, 'min_samples_split': 18, 'max_features': 'log2'}. Best is trial 0 with value: 0.9649122807017544.\n",
      "[I 2025-07-13 16:29:58,940] Trial 20 finished with value: 0.9649122807017544 and parameters: {'n_estimators': 200, 'max_depth': 10, 'min_samples_split': 15, 'max_features': 'log2'}. Best is trial 0 with value: 0.9649122807017544.\n",
      "[I 2025-07-13 16:30:00,098] Trial 21 finished with value: 0.9649122807017544 and parameters: {'n_estimators': 600, 'max_depth': 8, 'min_samples_split': 14, 'max_features': 'sqrt'}. Best is trial 0 with value: 0.9649122807017544.\n",
      "[I 2025-07-13 16:30:01,473] Trial 22 finished with value: 0.9649122807017544 and parameters: {'n_estimators': 700, 'max_depth': 8, 'min_samples_split': 11, 'max_features': 'sqrt'}. Best is trial 0 with value: 0.9649122807017544.\n",
      "[I 2025-07-13 16:30:02,486] Trial 23 finished with value: 0.9649122807017544 and parameters: {'n_estimators': 500, 'max_depth': 6, 'min_samples_split': 18, 'max_features': 'sqrt'}. Best is trial 0 with value: 0.9649122807017544.\n",
      "[I 2025-07-13 16:30:03,721] Trial 24 finished with value: 0.9649122807017544 and parameters: {'n_estimators': 600, 'max_depth': 9, 'min_samples_split': 13, 'max_features': 'sqrt'}. Best is trial 0 with value: 0.9649122807017544.\n",
      "[I 2025-07-13 16:30:04,556] Trial 25 finished with value: 0.9649122807017544 and parameters: {'n_estimators': 400, 'max_depth': 11, 'min_samples_split': 15, 'max_features': 'sqrt'}. Best is trial 0 with value: 0.9649122807017544.\n",
      "[I 2025-07-13 16:30:06,357] Trial 26 finished with value: 0.9649122807017544 and parameters: {'n_estimators': 800, 'max_depth': 7, 'min_samples_split': 18, 'max_features': 'sqrt'}. Best is trial 0 with value: 0.9649122807017544.\n",
      "[I 2025-07-13 16:30:07,998] Trial 27 finished with value: 0.9649122807017544 and parameters: {'n_estimators': 700, 'max_depth': 9, 'min_samples_split': 11, 'max_features': 'sqrt'}. Best is trial 0 with value: 0.9649122807017544.\n",
      "[I 2025-07-13 16:30:08,473] Trial 28 finished with value: 0.9649122807017544 and parameters: {'n_estimators': 200, 'max_depth': 13, 'min_samples_split': 16, 'max_features': 'log2'}. Best is trial 0 with value: 0.9649122807017544.\n",
      "[I 2025-07-13 16:30:09,524] Trial 29 finished with value: 0.9649122807017544 and parameters: {'n_estimators': 600, 'max_depth': 3, 'min_samples_split': 13, 'max_features': 'log2'}. Best is trial 0 with value: 0.9649122807017544.\n",
      "[I 2025-07-13 16:30:11,316] Trial 30 finished with value: 0.9649122807017544 and parameters: {'n_estimators': 900, 'max_depth': 11, 'min_samples_split': 5, 'max_features': 'sqrt'}. Best is trial 0 with value: 0.9649122807017544.\n",
      "[I 2025-07-13 16:30:11,684] Trial 31 finished with value: 0.9649122807017544 and parameters: {'n_estimators': 200, 'max_depth': 4, 'min_samples_split': 8, 'max_features': 'log2'}. Best is trial 0 with value: 0.9649122807017544.\n",
      "[I 2025-07-13 16:30:11,885] Trial 32 finished with value: 0.9649122807017544 and parameters: {'n_estimators': 100, 'max_depth': 7, 'min_samples_split': 7, 'max_features': 'log2'}. Best is trial 0 with value: 0.9649122807017544.\n",
      "[I 2025-07-13 16:30:12,628] Trial 33 finished with value: 0.9649122807017544 and parameters: {'n_estimators': 400, 'max_depth': 5, 'min_samples_split': 6, 'max_features': 'log2'}. Best is trial 0 with value: 0.9649122807017544.\n",
      "[I 2025-07-13 16:30:12,814] Trial 34 finished with value: 0.9649122807017544 and parameters: {'n_estimators': 100, 'max_depth': 3, 'min_samples_split': 10, 'max_features': 'log2'}. Best is trial 0 with value: 0.9649122807017544.\n",
      "[I 2025-07-13 16:30:13,227] Trial 35 finished with value: 0.9649122807017544 and parameters: {'n_estimators': 200, 'max_depth': 8, 'min_samples_split': 2, 'max_features': 'sqrt'}. Best is trial 0 with value: 0.9649122807017544.\n",
      "[I 2025-07-13 16:30:14,212] Trial 36 finished with value: 0.9649122807017544 and parameters: {'n_estimators': 500, 'max_depth': 9, 'min_samples_split': 12, 'max_features': 'log2'}. Best is trial 0 with value: 0.9649122807017544.\n",
      "[I 2025-07-13 16:30:14,819] Trial 37 finished with value: 0.9649122807017544 and parameters: {'n_estimators': 300, 'max_depth': 5, 'min_samples_split': 9, 'max_features': 'sqrt'}. Best is trial 0 with value: 0.9649122807017544.\n",
      "[I 2025-07-13 16:30:15,061] Trial 38 finished with value: 0.9649122807017544 and parameters: {'n_estimators': 100, 'max_depth': 14, 'min_samples_split': 20, 'max_features': 'log2'}. Best is trial 0 with value: 0.9649122807017544.\n",
      "[I 2025-07-13 16:30:15,687] Trial 39 finished with value: 0.9649122807017544 and parameters: {'n_estimators': 300, 'max_depth': 4, 'min_samples_split': 12, 'max_features': 'log2'}. Best is trial 0 with value: 0.9649122807017544.\n",
      "[I 2025-07-13 16:30:17,718] Trial 40 finished with value: 0.9649122807017544 and parameters: {'n_estimators': 900, 'max_depth': 10, 'min_samples_split': 15, 'max_features': 'sqrt'}. Best is trial 0 with value: 0.9649122807017544.\n",
      "[I 2025-07-13 16:30:19,396] Trial 41 finished with value: 0.9649122807017544 and parameters: {'n_estimators': 800, 'max_depth': 9, 'min_samples_split': 8, 'max_features': 'sqrt'}. Best is trial 0 with value: 0.9649122807017544.\n",
      "[I 2025-07-13 16:30:21,478] Trial 42 finished with value: 0.9649122807017544 and parameters: {'n_estimators': 1000, 'max_depth': 6, 'min_samples_split': 4, 'max_features': 'sqrt'}. Best is trial 0 with value: 0.9649122807017544.\n",
      "[I 2025-07-13 16:30:22,314] Trial 43 finished with value: 0.9649122807017544 and parameters: {'n_estimators': 400, 'max_depth': 11, 'min_samples_split': 8, 'max_features': 'sqrt'}. Best is trial 0 with value: 0.9649122807017544.\n",
      "[I 2025-07-13 16:30:24,291] Trial 44 finished with value: 0.9649122807017544 and parameters: {'n_estimators': 900, 'max_depth': 12, 'min_samples_split': 10, 'max_features': 'sqrt'}. Best is trial 0 with value: 0.9649122807017544.\n",
      "[I 2025-07-13 16:30:25,450] Trial 45 finished with value: 0.9649122807017544 and parameters: {'n_estimators': 600, 'max_depth': 7, 'min_samples_split': 7, 'max_features': 'log2'}. Best is trial 0 with value: 0.9649122807017544.\n",
      "[I 2025-07-13 16:30:27,502] Trial 46 finished with value: 0.9649122807017544 and parameters: {'n_estimators': 1000, 'max_depth': 8, 'min_samples_split': 19, 'max_features': 'sqrt'}. Best is trial 0 with value: 0.9649122807017544.\n",
      "[I 2025-07-13 16:30:28,870] Trial 47 finished with value: 0.9649122807017544 and parameters: {'n_estimators': 700, 'max_depth': 15, 'min_samples_split': 17, 'max_features': 'log2'}. Best is trial 0 with value: 0.9649122807017544.\n",
      "[I 2025-07-13 16:30:29,896] Trial 48 finished with value: 0.9649122807017544 and parameters: {'n_estimators': 500, 'max_depth': 10, 'min_samples_split': 14, 'max_features': 'sqrt'}. Best is trial 0 with value: 0.9649122807017544.\n",
      "[I 2025-07-13 16:30:31,603] Trial 49 finished with value: 0.9649122807017544 and parameters: {'n_estimators': 800, 'max_depth': 13, 'min_samples_split': 9, 'max_features': 'sqrt'}. Best is trial 0 with value: 0.9649122807017544.\n",
      "[I 2025-07-13 16:30:32,004] Trial 50 finished with value: 0.9649122807017544 and parameters: {'n_estimators': 200, 'max_depth': 9, 'min_samples_split': 19, 'max_features': 'log2'}. Best is trial 0 with value: 0.9649122807017544.\n",
      "[I 2025-07-13 16:30:32,237] Trial 51 finished with value: 0.9649122807017544 and parameters: {'n_estimators': 100, 'max_depth': 14, 'min_samples_split': 2, 'max_features': 'sqrt'}. Best is trial 0 with value: 0.9649122807017544.\n",
      "[I 2025-07-13 16:30:33,240] Trial 52 finished with value: 0.9649122807017544 and parameters: {'n_estimators': 500, 'max_depth': 12, 'min_samples_split': 3, 'max_features': 'sqrt'}. Best is trial 0 with value: 0.9649122807017544.\n",
      "[I 2025-07-13 16:30:33,881] Trial 53 finished with value: 0.9649122807017544 and parameters: {'n_estimators': 300, 'max_depth': 15, 'min_samples_split': 5, 'max_features': 'sqrt'}. Best is trial 0 with value: 0.9649122807017544.\n",
      "[I 2025-07-13 16:30:34,501] Trial 54 finished with value: 0.9649122807017544 and parameters: {'n_estimators': 300, 'max_depth': 11, 'min_samples_split': 11, 'max_features': 'sqrt'}. Best is trial 0 with value: 0.9649122807017544.\n",
      "[I 2025-07-13 16:30:35,681] Trial 55 finished with value: 0.9649122807017544 and parameters: {'n_estimators': 600, 'max_depth': 12, 'min_samples_split': 16, 'max_features': 'sqrt'}. Best is trial 0 with value: 0.9649122807017544.\n",
      "[I 2025-07-13 16:30:37,133] Trial 56 finished with value: 0.9649122807017544 and parameters: {'n_estimators': 700, 'max_depth': 10, 'min_samples_split': 6, 'max_features': 'sqrt'}. Best is trial 0 with value: 0.9649122807017544.\n",
      "[I 2025-07-13 16:30:37,555] Trial 57 finished with value: 0.9649122807017544 and parameters: {'n_estimators': 200, 'max_depth': 8, 'min_samples_split': 13, 'max_features': 'log2'}. Best is trial 0 with value: 0.9649122807017544.\n",
      "[I 2025-07-13 16:30:38,384] Trial 58 finished with value: 0.9649122807017544 and parameters: {'n_estimators': 400, 'max_depth': 13, 'min_samples_split': 4, 'max_features': 'sqrt'}. Best is trial 0 with value: 0.9649122807017544.\n",
      "[I 2025-07-13 16:30:38,594] Trial 59 finished with value: 0.9649122807017544 and parameters: {'n_estimators': 100, 'max_depth': 6, 'min_samples_split': 17, 'max_features': 'log2'}. Best is trial 0 with value: 0.9649122807017544.\n",
      "[I 2025-07-13 16:30:39,825] Trial 60 finished with value: 0.9649122807017544 and parameters: {'n_estimators': 600, 'max_depth': 14, 'min_samples_split': 15, 'max_features': 'sqrt'}. Best is trial 0 with value: 0.9649122807017544.\n",
      "[I 2025-07-13 16:30:40,043] Trial 61 finished with value: 0.9649122807017544 and parameters: {'n_estimators': 100, 'max_depth': 8, 'min_samples_split': 12, 'max_features': 'log2'}. Best is trial 0 with value: 0.9649122807017544.\n",
      "[I 2025-07-13 16:30:40,444] Trial 62 finished with value: 0.9649122807017544 and parameters: {'n_estimators': 200, 'max_depth': 9, 'min_samples_split': 14, 'max_features': 'log2'}. Best is trial 0 with value: 0.9649122807017544.\n",
      "[I 2025-07-13 16:30:40,651] Trial 63 finished with value: 0.9649122807017544 and parameters: {'n_estimators': 100, 'max_depth': 7, 'min_samples_split': 13, 'max_features': 'log2'}. Best is trial 0 with value: 0.9649122807017544.\n",
      "[I 2025-07-13 16:30:41,033] Trial 64 finished with value: 0.9649122807017544 and parameters: {'n_estimators': 200, 'max_depth': 8, 'min_samples_split': 14, 'max_features': 'log2'}. Best is trial 0 with value: 0.9649122807017544.\n",
      "[I 2025-07-13 16:30:42,452] Trial 65 finished with value: 0.9649122807017544 and parameters: {'n_estimators': 700, 'max_depth': 9, 'min_samples_split': 9, 'max_features': 'log2'}. Best is trial 0 with value: 0.9649122807017544.\n",
      "[I 2025-07-13 16:30:42,695] Trial 66 finished with value: 0.9649122807017544 and parameters: {'n_estimators': 100, 'max_depth': 11, 'min_samples_split': 20, 'max_features': 'sqrt'}. Best is trial 0 with value: 0.9649122807017544.\n",
      "[I 2025-07-13 16:30:43,750] Trial 67 finished with value: 0.9649122807017544 and parameters: {'n_estimators': 500, 'max_depth': 10, 'min_samples_split': 12, 'max_features': 'log2'}. Best is trial 0 with value: 0.9649122807017544.\n",
      "[I 2025-07-13 16:30:43,973] Trial 68 finished with value: 0.9649122807017544 and parameters: {'n_estimators': 100, 'max_depth': 7, 'min_samples_split': 11, 'max_features': 'sqrt'}. Best is trial 0 with value: 0.9649122807017544.\n",
      "[I 2025-07-13 16:30:45,756] Trial 69 finished with value: 0.9649122807017544 and parameters: {'n_estimators': 900, 'max_depth': 6, 'min_samples_split': 7, 'max_features': 'log2'}. Best is trial 0 with value: 0.9649122807017544.\n",
      "[I 2025-07-13 16:30:47,278] Trial 70 finished with value: 0.9649122807017544 and parameters: {'n_estimators': 700, 'max_depth': 15, 'min_samples_split': 10, 'max_features': 'sqrt'}. Best is trial 0 with value: 0.9649122807017544.\n",
      "[I 2025-07-13 16:30:48,060] Trial 71 finished with value: 0.9649122807017544 and parameters: {'n_estimators': 400, 'max_depth': 4, 'min_samples_split': 19, 'max_features': 'sqrt'}. Best is trial 0 with value: 0.9649122807017544.\n",
      "[I 2025-07-13 16:30:48,418] Trial 72 finished with value: 0.9649122807017544 and parameters: {'n_estimators': 200, 'max_depth': 3, 'min_samples_split': 20, 'max_features': 'sqrt'}. Best is trial 0 with value: 0.9649122807017544.\n",
      "[I 2025-07-13 16:30:48,981] Trial 73 finished with value: 0.9649122807017544 and parameters: {'n_estimators': 300, 'max_depth': 4, 'min_samples_split': 18, 'max_features': 'sqrt'}. Best is trial 0 with value: 0.9649122807017544.\n",
      "[I 2025-07-13 16:30:49,713] Trial 74 finished with value: 0.9649122807017544 and parameters: {'n_estimators': 400, 'max_depth': 3, 'min_samples_split': 17, 'max_features': 'sqrt'}. Best is trial 0 with value: 0.9649122807017544.\n",
      "[I 2025-07-13 16:30:50,814] Trial 75 finished with value: 0.9649122807017544 and parameters: {'n_estimators': 500, 'max_depth': 5, 'min_samples_split': 15, 'max_features': 'log2'}. Best is trial 0 with value: 0.9649122807017544.\n",
      "[I 2025-07-13 16:30:51,450] Trial 76 finished with value: 0.9649122807017544 and parameters: {'n_estimators': 300, 'max_depth': 10, 'min_samples_split': 16, 'max_features': 'sqrt'}. Best is trial 0 with value: 0.9649122807017544.\n",
      "[I 2025-07-13 16:30:51,860] Trial 77 finished with value: 0.9649122807017544 and parameters: {'n_estimators': 200, 'max_depth': 9, 'min_samples_split': 12, 'max_features': 'sqrt'}. Best is trial 0 with value: 0.9649122807017544.\n",
      "[I 2025-07-13 16:30:52,952] Trial 78 finished with value: 0.9649122807017544 and parameters: {'n_estimators': 600, 'max_depth': 4, 'min_samples_split': 6, 'max_features': 'log2'}. Best is trial 0 with value: 0.9649122807017544.\n",
      "[I 2025-07-13 16:30:53,198] Trial 79 finished with value: 0.9649122807017544 and parameters: {'n_estimators': 100, 'max_depth': 8, 'min_samples_split': 18, 'max_features': 'sqrt'}. Best is trial 0 with value: 0.9649122807017544.\n",
      "[I 2025-07-13 16:30:53,943] Trial 80 finished with value: 0.9649122807017544 and parameters: {'n_estimators': 400, 'max_depth': 3, 'min_samples_split': 16, 'max_features': 'log2'}. Best is trial 0 with value: 0.9649122807017544.\n",
      "[I 2025-07-13 16:30:55,522] Trial 81 finished with value: 0.9649122807017544 and parameters: {'n_estimators': 800, 'max_depth': 5, 'min_samples_split': 8, 'max_features': 'log2'}. Best is trial 0 with value: 0.9649122807017544.\n",
      "[I 2025-07-13 16:30:57,106] Trial 82 finished with value: 0.9649122807017544 and parameters: {'n_estimators': 900, 'max_depth': 3, 'min_samples_split': 9, 'max_features': 'log2'}. Best is trial 0 with value: 0.9649122807017544.\n",
      "[I 2025-07-13 16:30:58,594] Trial 83 finished with value: 0.9649122807017544 and parameters: {'n_estimators': 800, 'max_depth': 4, 'min_samples_split': 10, 'max_features': 'log2'}. Best is trial 0 with value: 0.9649122807017544.\n",
      "[I 2025-07-13 16:31:00,513] Trial 84 finished with value: 0.9649122807017544 and parameters: {'n_estimators': 1000, 'max_depth': 7, 'min_samples_split': 19, 'max_features': 'log2'}. Best is trial 0 with value: 0.9649122807017544.\n",
      "[I 2025-07-13 16:31:01,732] Trial 85 finished with value: 0.9649122807017544 and parameters: {'n_estimators': 600, 'max_depth': 5, 'min_samples_split': 7, 'max_features': 'sqrt'}. Best is trial 0 with value: 0.9649122807017544.\n",
      "[I 2025-07-13 16:31:03,510] Trial 86 finished with value: 0.9649122807017544 and parameters: {'n_estimators': 900, 'max_depth': 9, 'min_samples_split': 13, 'max_features': 'log2'}. Best is trial 0 with value: 0.9649122807017544.\n",
      "[I 2025-07-13 16:31:04,544] Trial 87 finished with value: 0.9649122807017544 and parameters: {'n_estimators': 500, 'max_depth': 8, 'min_samples_split': 11, 'max_features': 'sqrt'}. Best is trial 0 with value: 0.9649122807017544.\n",
      "[I 2025-07-13 16:31:04,757] Trial 88 finished with value: 0.9649122807017544 and parameters: {'n_estimators': 100, 'max_depth': 4, 'min_samples_split': 9, 'max_features': 'sqrt'}. Best is trial 0 with value: 0.9649122807017544.\n",
      "[I 2025-07-13 16:31:05,357] Trial 89 finished with value: 0.9649122807017544 and parameters: {'n_estimators': 300, 'max_depth': 10, 'min_samples_split': 20, 'max_features': 'log2'}. Best is trial 0 with value: 0.9649122807017544.\n",
      "[I 2025-07-13 16:31:06,996] Trial 90 finished with value: 0.9649122807017544 and parameters: {'n_estimators': 800, 'max_depth': 9, 'min_samples_split': 8, 'max_features': 'sqrt'}. Best is trial 0 with value: 0.9649122807017544.\n",
      "[I 2025-07-13 16:31:08,099] Trial 91 finished with value: 0.9649122807017544 and parameters: {'n_estimators': 600, 'max_depth': 13, 'min_samples_split': 14, 'max_features': 'log2'}. Best is trial 0 with value: 0.9649122807017544.\n",
      "[I 2025-07-13 16:31:08,898] Trial 92 finished with value: 0.9649122807017544 and parameters: {'n_estimators': 400, 'max_depth': 12, 'min_samples_split': 13, 'max_features': 'log2'}. Best is trial 0 with value: 0.9649122807017544.\n",
      "[I 2025-07-13 16:31:09,887] Trial 93 finished with value: 0.9649122807017544 and parameters: {'n_estimators': 500, 'max_depth': 11, 'min_samples_split': 3, 'max_features': 'log2'}. Best is trial 0 with value: 0.9649122807017544.\n",
      "[I 2025-07-13 16:31:11,236] Trial 94 finished with value: 0.9649122807017544 and parameters: {'n_estimators': 700, 'max_depth': 14, 'min_samples_split': 14, 'max_features': 'log2'}. Best is trial 0 with value: 0.9649122807017544.\n",
      "[I 2025-07-13 16:31:13,249] Trial 95 finished with value: 0.9649122807017544 and parameters: {'n_estimators': 1000, 'max_depth': 10, 'min_samples_split': 12, 'max_features': 'log2'}. Best is trial 0 with value: 0.9649122807017544.\n",
      "[I 2025-07-13 16:31:14,515] Trial 96 finished with value: 0.9649122807017544 and parameters: {'n_estimators': 600, 'max_depth': 8, 'min_samples_split': 11, 'max_features': 'sqrt'}. Best is trial 0 with value: 0.9649122807017544.\n",
      "[I 2025-07-13 16:31:15,495] Trial 97 finished with value: 0.9649122807017544 and parameters: {'n_estimators': 500, 'max_depth': 13, 'min_samples_split': 15, 'max_features': 'log2'}. Best is trial 0 with value: 0.9649122807017544.\n",
      "[I 2025-07-13 16:31:15,720] Trial 98 finished with value: 0.9649122807017544 and parameters: {'n_estimators': 100, 'max_depth': 15, 'min_samples_split': 7, 'max_features': 'sqrt'}. Best is trial 0 with value: 0.9649122807017544.\n",
      "[I 2025-07-13 16:31:16,119] Trial 99 finished with value: 0.9649122807017544 and parameters: {'n_estimators': 200, 'max_depth': 9, 'min_samples_split': 5, 'max_features': 'log2'}. Best is trial 0 with value: 0.9649122807017544.\n"
     ]
    },
    {
     "name": "stdout",
     "output_type": "stream",
     "text": [
      "Number of finished trials:   100\n",
      "Best Trial:   {'n_estimators': 100, 'max_depth': 9, 'min_samples_split': 15, 'max_features': 'sqrt'}\n",
      "Best accuracy:   0.9649122807017544\n"
     ]
    }
   ],
   "source": [
    "study= optuna.create_study(direction='maximize')\n",
    "study.optimize(objective, n_trials=100)\n",
    "\n",
    "print('Number of finished trials:  ', len(study.trials))\n",
    "print('Best Trial:  ', study.best_trial.params)\n",
    "print('Best accuracy:  ', study.best_trial.value)"
   ]
  },
  {
   "cell_type": "code",
   "execution_count": 11,
   "id": "28802e57",
   "metadata": {},
   "outputs": [
    {
     "name": "stdout",
     "output_type": "stream",
     "text": [
      "best accuracy:  0.9649122807017544\n"
     ]
    }
   ],
   "source": [
    "best_params= study.best_trial.params\n",
    "best_model = RandomForestClassifier(random_state=42, **best_params)\n",
    "best_model.fit(x_train, y_train)\n",
    "y_pred = best_model.predict(x_test)\n",
    "\n",
    "best_accuracy= accuracy_score(y_test, y_pred)\n",
    "\n",
    "print('best accuracy: ', best_accuracy)"
   ]
  },
  {
   "cell_type": "markdown",
   "id": "03052498",
   "metadata": {},
   "source": [
    "## GRID SEARCH\n",
    "\n",
    "took around 11 mins for the total of 4000 fits to get the best accuracy "
   ]
  },
  {
   "cell_type": "code",
   "execution_count": 12,
   "id": "7d9da80b",
   "metadata": {},
   "outputs": [],
   "source": [
    "from sklearn.model_selection import GridSearchCV"
   ]
  },
  {
   "cell_type": "code",
   "execution_count": 13,
   "id": "6174be02",
   "metadata": {},
   "outputs": [
    {
     "name": "stdout",
     "output_type": "stream",
     "text": [
      "Fitting 5 folds for each of 800 candidates, totalling 4000 fits\n",
      "best params :  \n",
      "{'max_depth': 7, 'max_features': 'sqrt', 'min_samples_leaf': 1, 'min_samples_split': 2, 'n_estimators': 300}\n",
      "best cross val accuracy:  \n",
      "0.9626373626373625\n"
     ]
    }
   ],
   "source": [
    "param_grid = {\n",
    "    'n_estimators': [100, 300, 500, 800, 1000],\n",
    "    'max_depth': [3, 5, 7, 10, 15],\n",
    "    'min_samples_split': [2, 5, 10, 15],\n",
    "    'min_samples_leaf': [1, 2, 5, 10],\n",
    "    'max_features': ['sqrt', 'log2']\n",
    "}\n",
    "\n",
    "model=RandomForestClassifier(random_state=42)\n",
    "\n",
    "grid_search= GridSearchCV(estimator=model, param_grid=param_grid, scoring='accuracy', cv=5, verbose=2, n_jobs=-1)\n",
    "grid_search.fit(x_train, y_train)\n",
    "\n",
    "print('best params :  ')\n",
    "print(grid_search.best_params_)\n",
    "\n",
    "print('best cross val accuracy:  ')\n",
    "print(grid_search.best_score_)"
   ]
  },
  {
   "cell_type": "code",
   "execution_count": 17,
   "id": "4e4da517",
   "metadata": {},
   "outputs": [
    {
     "name": "stdout",
     "output_type": "stream",
     "text": [
      "best accuracy with Grid Search :   0.9649122807017544\n"
     ]
    }
   ],
   "source": [
    "best_model= grid_search.best_estimator_\n",
    "y_pred= best_model.predict(x_test)\n",
    "\n",
    "best_score= accuracy_score(y_test, y_pred)\n",
    "\n",
    "print('best accuracy with Grid Search :  ', best_score)"
   ]
  },
  {
   "cell_type": "markdown",
   "id": "4c649809",
   "metadata": {},
   "source": [
    "## RANDOM SEARCH \n",
    "\n",
    "works by sampling a fixed number of hyperparameter settings from the specified distributions and is more efficient for larger search spaces, when computational resources are limited."
   ]
  },
  {
   "cell_type": "code",
   "execution_count": 18,
   "id": "14014f02",
   "metadata": {},
   "outputs": [
    {
     "name": "stdout",
     "output_type": "stream",
     "text": [
      "Fitting 5 folds for each of 100 candidates, totalling 500 fits\n",
      "Best parameters found by RandomizedSearchCV:\n",
      "{'max_depth': 11, 'max_features': 'log2', 'min_samples_leaf': 1, 'min_samples_split': 3, 'n_estimators': 996}\n",
      "Best cross-validation accuracy: 0.9582417582417582\n",
      "Validation accuracy with best hyperparameters (RandomizedSearchCV): 0.9649122807017544\n"
     ]
    }
   ],
   "source": [
    "from sklearn.model_selection import RandomizedSearchCV\n",
    "from scipy.stats import randint\n",
    "\n",
    "\n",
    "param_dist = {\n",
    "    'n_estimators': randint(100, 1000),\n",
    "    'max_depth': randint(3, 15),\n",
    "    'min_samples_split': randint(2, 20),\n",
    "    'min_samples_leaf': randint(1, 10),\n",
    "    'max_features': ['sqrt', 'log2']\n",
    "}\n",
    "\n",
    "model=RandomForestClassifier(random_state=42)\n",
    "\n",
    "random_search = RandomizedSearchCV(estimator=model, param_distributions=param_dist,\n",
    "                                   n_iter=100, scoring='accuracy', cv=5, verbose=1, n_jobs=-1, random_state=42)\n",
    "\n",
    "\n",
    "random_search.fit(x_train, y_train)\n",
    "\n",
    "print(\"Best parameters found by RandomizedSearchCV:\")\n",
    "print(random_search.best_params_)\n",
    "print(\"Best cross-validation accuracy:\", random_search.best_score_)\n",
    "\n",
    "\n",
    "best_random_model = random_search.best_estimator_\n",
    "val_preds_random = best_random_model.predict(x_test)\n",
    "val_accuracy_random = accuracy_score(y_test, val_preds_random)\n",
    "print(\"Validation accuracy with best hyperparameters (RandomizedSearchCV):\", val_accuracy_random)"
   ]
  },
  {
   "cell_type": "code",
   "execution_count": null,
   "id": "71732a86",
   "metadata": {},
   "outputs": [],
   "source": []
  }
 ],
 "metadata": {
  "kernelspec": {
   "display_name": "Python 3",
   "language": "python",
   "name": "python3"
  },
  "language_info": {
   "codemirror_mode": {
    "name": "ipython",
    "version": 3
   },
   "file_extension": ".py",
   "mimetype": "text/x-python",
   "name": "python",
   "nbconvert_exporter": "python",
   "pygments_lexer": "ipython3",
   "version": "3.10.18"
  }
 },
 "nbformat": 4,
 "nbformat_minor": 5
}
